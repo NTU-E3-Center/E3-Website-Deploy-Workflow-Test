{
 "cells": [
  {
   "cell_type": "code",
   "execution_count": 2,
   "metadata": {},
   "outputs": [],
   "source": [
    "import os\n",
    "import shutil\n",
    "import json\n",
    "from datetime import datetime\n",
    "import markdown\n",
    "from jinja2 import Environment, FileSystemLoader"
   ]
  },
  {
   "cell_type": "code",
   "execution_count": 11,
   "metadata": {},
   "outputs": [
    {
     "name": "stdout",
     "output_type": "stream",
     "text": [
      "about.json\n",
      "contact.json\n",
      "groupLife.json\n",
      "members.json\n",
      "news.json\n",
      "pages.json\n",
      "publications.json\n",
      "research.json\n"
     ]
    }
   ],
   "source": [
    "structures_path = 'contents/structures'\n",
    "structures = {}\n",
    "for filename in os.listdir(structures_path):\n",
    "    if filename.endswith('.json'):\n",
    "        print(filename)\n",
    "        file_path = os.path.join(structures_path, filename)\n",
    "        with open(file_path, 'r', encoding='utf-8') as f:\n",
    "            # Load JSON content\n",
    "            data = json.load(f)\n",
    "        # Create a key based on the file name (without the .json extension)\n",
    "        var_name = os.path.splitext(filename)[0]\n",
    "        structures[var_name] = data\n",
    "\n",
    "articles_path = 'contents/articles'\n",
    "articles = {}\n",
    "for filename in os.listdir(articles_path):\n",
    "    if filename.endswith('.md'):\n",
    "        file_path = os.path.join(articles_path, filename)\n",
    "        with open(file_path, 'r', encoding='utf-8') as f:\n",
    "            # Load md content\n",
    "            md_text = f.read()\n",
    "            html_content = markdown.markdown(md_text, extensions=['md_in_html'])\n",
    "        # Create a key based on the file name (without the .json extension)\n",
    "        var_name = os.path.splitext(filename)[0]\n",
    "        articles[var_name] = html_content\n",
    "\n",
    "# Now you can access your JSON data by file name:\n",
    "# For example, if you had \"example.json\", you can get its data with:\n",
    "# json_data[\"example\"]\n",
    "# print(structures)\n",
    "# articles"
   ]
  },
  {
   "cell_type": "code",
   "execution_count": 13,
   "metadata": {},
   "outputs": [],
   "source": [
    "env = Environment(loader=FileSystemLoader(['templates', 'contents']),\n",
    "                  trim_blocks=True,\n",
    "                  lstrip_blocks=True)\n",
    "template = env.get_template(f\"index.html\")\n",
    "output = template.render(\n",
    "    updated_time=datetime.now().strftime(\"%Y. %m. %d  %H:%M\"),\n",
    "    structures=structures,\n",
    "    articles=articles\n",
    ")\n",
    "with open(\"dist/index.html\", \"w\", encoding='utf-8') as f:\n",
    "    f.write(output)"
   ]
  },
  {
   "cell_type": "code",
   "execution_count": 18,
   "metadata": {},
   "outputs": [
    {
     "data": {
      "text/plain": [
       "'path'"
      ]
     },
     "execution_count": 18,
     "metadata": {},
     "output_type": "execute_result"
    }
   ],
   "source": [
    "'path.png'.split('.')[0]"
   ]
  },
  {
   "cell_type": "code",
   "execution_count": 35,
   "metadata": {},
   "outputs": [
    {
     "data": {
      "text/plain": [
       "[{'title': 'Congratulations to Yu-Shin Hu (胡羽忻) for winning the Best Innovation Paper at iCHE2024!',\n",
       "  'year': \"'24\",\n",
       "  'month': 'Sep.'},\n",
       " {'title': 'Prof. Hsieh wins the Outstanding Teaching Award (優良教學獎) at NTU.',\n",
       "  'year': \"'24\",\n",
       "  'month': 'Sep.'},\n",
       " {'title': 'Prof. Hsieh promoted to Associate Professor.',\n",
       "  'year': \"'24\",\n",
       "  'month': 'Aug.'},\n",
       " {'title': 'Prof. Hsieh writes a column on retiring batteries and vehicle networking for Critical Reviews (關鍵評論網).',\n",
       "  'link': 'https://www.thenewslens.com/article/204563',\n",
       "  'year': \"'24\",\n",
       "  'month': 'Jul.'},\n",
       " {'title': \"Prof. Hsieh's paper receives the 2022 ES&T Best Paper Award.\",\n",
       "  'link': 'https://pubs.acs.org/doi/10.1021/acs.est.4c02832',\n",
       "  'year': \"'24\",\n",
       "  'month': 'Apr.'}]"
      ]
     },
     "execution_count": 35,
     "metadata": {},
     "output_type": "execute_result"
    }
   ],
   "source": [
    "structures['news'][0]['items'][-1:-6:-1]"
   ]
  },
  {
   "cell_type": "code",
   "execution_count": 21,
   "metadata": {},
   "outputs": [
    {
     "data": {
      "text/plain": [
       "{'sectionTitle:': 'Journal Publications',\n",
       " 'items': [{'publicationId': 'tUbPb-QAAAAJ:9yKSN-GCB0IC',\n",
       "   'title': 'Incorporating Multiple Uncertainties Into Projections of Chinese Private Car Sales and Stock',\n",
       "   'link': 'https://journals.sagepub.com/doi/abs/10.1177/0361198118791361',\n",
       "   'subTitle': 'Transportation Research Record',\n",
       "   'volume': '47',\n",
       "   'year': \"'18\",\n",
       "   'month': 'Dec.'},\n",
       "  {'publicationId': 'tUbPb-QAAAAJ:u-x6o8ySG0sC',\n",
       "   'title': 'Learning Only Buys You so Much: Practical Limits on Battery Price Reduction',\n",
       "   'link': 'https://www.sciencedirect.com/science/article/pii/S0306261919301606',\n",
       "   'subTitle': 'Applied Energy',\n",
       "   'volume': '239',\n",
       "   'year': \"'19\",\n",
       "   'month': 'Apr.'},\n",
       "  {'publicationId': 'tUbPb-QAAAAJ:IjCSPb-OGe4C',\n",
       "   'title': 'Recharging Systems and Business Operations to Improve the Economics of Electrified Taxi Fleets',\n",
       "   'link': 'https://www.sciencedirect.com/science/article/pii/S2210670720301062',\n",
       "   'subTitle': 'Sustainable Cities and Society',\n",
       "   'volume': '57',\n",
       "   'year': \"'20\",\n",
       "   'month': 'Jun.'},\n",
       "  {'publicationId': 'tUbPb-QAAAAJ:d1gkVwhDpl0C',\n",
       "   'title': 'Transition to Electric Vehicles in China: Implications for Private Motorization Rate and Battery Market',\n",
       "   'link': 'https://www.sciencedirect.com/science/article/pii/S0301421520303852',\n",
       "   'subTitle': 'Energy policy',\n",
       "   'volume': '144',\n",
       "   'year': \"'20\",\n",
       "   'month': 'Sep.'},\n",
       "  {'publicationId': 'tUbPb-QAAAAJ:W7OEmFMy1HYC',\n",
       "   'title': \"China's Vehicle Electrification Impacts on Sales, Fuel Use, and Battery Material Demand Through 2050: Optimizing Consumer and Industry Decisions\",\n",
       "   'link': 'https://www.cell.com/iscience/fulltext/S2589-0042(21)01346-8',\n",
       "   'subTitle': 'Iscience',\n",
       "   'volume': '24',\n",
       "   'year': \"'21\",\n",
       "   'month': 'Nov.'},\n",
       "  {'publicationId': 'tUbPb-QAAAAJ:YsMSGLbcyi4C',\n",
       "   'title': 'An Integrated Assessment of Emissions, Air Quality, and Public Health Impacts of China’s Transition to Electric Vehicles',\n",
       "   'link': 'https://pubs.acs.org/doi/abs/10.1021/acs.est.1c06148',\n",
       "   'subTitle': 'Environmental science & technology',\n",
       "   'volume': '56',\n",
       "   'year': \"'22\",\n",
       "   'month': 'Feb.'},\n",
       "  {'publicationId': 'tUbPb-QAAAAJ:_kc_bZDykSQC',\n",
       "   'title': '臺灣電力碳密集度現況研究與淨零政策之展望',\n",
       "   'link': 'https://km.twenergy.org.tw/Publication/thesis_more?id=325',\n",
       "   'subTitle': '臺灣能源期刊',\n",
       "   'volume': '9',\n",
       "   'year': \"'22\",\n",
       "   'month': 'Dec.'},\n",
       "  {'publicationId': 'tUbPb-QAAAAJ:4TOpqqG69KYC',\n",
       "   'title': '基於桑基圖之臺灣能源流現況與2050淨零政策潛在影響之展望分析',\n",
       "   'link': 'https://km.twenergy.org.tw/Publication/thesis_more?id=330',\n",
       "   'subTitle': '臺灣能源期刊',\n",
       "   'volume': '9',\n",
       "   'year': \"'22\",\n",
       "   'month': 'Dec.'},\n",
       "  {'publicationId': 'tUbPb-QAAAAJ:Se3iqnhoufwC',\n",
       "   'title': 'Evaluating Vehicle Fleet Electrification Against Net-zero Targets in Scooter-dominated Road Transport',\n",
       "   'link': 'https://www.sciencedirect.com/science/article/pii/S1361920922003686',\n",
       "   'subTitle': 'Transportation Research Part D: Transport and Environment',\n",
       "   'volume': '114',\n",
       "   'year': \"'23\",\n",
       "   'month': 'Jan.'},\n",
       "  {'publicationId': 'tUbPb-QAAAAJ:hqOjcs7Dif8C',\n",
       "   'title': 'Beyond Personal Vehicles: How Electrifying Scooters Will Help Achieve Climate Mitigation Goals in Taiwan',\n",
       "   'link': 'https://www.sciencedirect.com/science/article/pii/S2211467X23000068',\n",
       "   'subTitle': 'Energy Strategy Reviews',\n",
       "   'volume': '45',\n",
       "   'year': \"'23\",\n",
       "   'month': 'Jan.'},\n",
       "  {'publicationId': 'tUbPb-QAAAAJ:0EnyYjriUFMC',\n",
       "   'title': 'Driving a Sustainable Road Transportation Transformation',\n",
       "   'link': 'https://www.cell.com/one-earth/fulltext/S2590-3322(23)00002-7',\n",
       "   'subTitle': 'One Earth',\n",
       "   'volume': '6',\n",
       "   'year': \"'23\",\n",
       "   'month': 'Jan.'},\n",
       "  {'publicationId': 'tUbPb-QAAAAJ:5nxA0vEk-isC',\n",
       "   'title': 'Impacts of Electric Fleet Charging Patterns Under Different Solar Power Penetration Levels: Hourly Grid Variations and Operating Emissions',\n",
       "   'link': 'https://www.sciencedirect.com/science/article/pii/S1361920923002456',\n",
       "   'subTitle': 'Transportation Research Part D: Transport and Environment',\n",
       "   'volume': '122',\n",
       "   'year': \"'23\",\n",
       "   'month': 'Sep.'},\n",
       "  {'publicationId': 'tUbPb-QAAAAJ:8k81kl-MbHgC',\n",
       "   'title': 'Transitioning From Illegal Rooftop Dwellings to Solar Pv: Market-based Incentive Design and Techno-economic Analysis',\n",
       "   'link': 'https://www.sciencedirect.com/science/article/pii/S2211467X23001049',\n",
       "   'subTitle': 'Energy Strategy Reviews',\n",
       "   'volume': '49',\n",
       "   'year': \"'23\",\n",
       "   'month': 'Sep.'},\n",
       "  {'publicationId': 'tUbPb-QAAAAJ:3fE2CSJIrl8C',\n",
       "   'title': 'Techno-economic Analysis of Lithium-ion Battery Price Reduction Considering Carbon Footprint Based on Life Cycle Assessment',\n",
       "   'link': 'https://www.sciencedirect.com/science/article/pii/S0959652623032031',\n",
       "   'subTitle': 'Journal of Cleaner Production',\n",
       "   'volume': '425',\n",
       "   'year': \"'23\",\n",
       "   'month': 'Nov.'},\n",
       "  {'publicationId': 'tUbPb-QAAAAJ:MXK_kJrjxJIC',\n",
       "   'title': 'Towards Nearly Zero-energy Buildings: Smart Energy Management of Vehicle-to-building (v2b) Strategy and Renewable Energy Sources',\n",
       "   'link': 'https://www.sciencedirect.com/science/article/pii/S2210670723005528',\n",
       "   'subTitle': 'Sustainable Cities and Society',\n",
       "   'volume': '99',\n",
       "   'year': \"'23\",\n",
       "   'month': 'Dec.'},\n",
       "  {'publicationId': 'tUbPb-QAAAAJ:kNdYIx-mwKoC',\n",
       "   'title': 'Sparse Trip Demand Prediction for Shared E-scooter Using Spatio-temporal Graph Neural Networks',\n",
       "   'link': 'https://www.sciencedirect.com/science/article/pii/S1361920923003590',\n",
       "   'subTitle': 'Transportation research part D: transport and environment',\n",
       "   'volume': '125',\n",
       "   'year': \"'23\",\n",
       "   'month': 'Dec.'},\n",
       "  {'publicationId': 'tUbPb-QAAAAJ:ULOm3_A8WrAC',\n",
       "   'title': '校園交通車及公務車電動化的環境效益與擁有成本分析：以臺灣大學為例',\n",
       "   'link': 'https://doi.org/10.6383/jcit.202312_35(4).0004',\n",
       "   'subTitle': '運輸學刊',\n",
       "   'volume': '35',\n",
       "   'year': \"'23\",\n",
       "   'month': 'Dec.'},\n",
       "  {'publicationId': 'tUbPb-QAAAAJ:Zph67rFs4hoC',\n",
       "   'title': 'Reducing Supply Risk of Critical Materials for Clean Energy Via Foreign Direct Investment',\n",
       "   'link': 'https://www.nature.com/articles/s41893-024-01329-3',\n",
       "   'subTitle': 'Nature Sustainability',\n",
       "   'volume': '7',\n",
       "   'year': \"'24\",\n",
       "   'month': 'Apr.'},\n",
       "  {'publicationId': 'tUbPb-QAAAAJ:KlAtU1dfN6UC',\n",
       "   'title': 'Distributional Effects of Carbon Pricing: an Analysis of Income-based Versus Expenditure-based Approaches',\n",
       "   'link': 'https://www.sciencedirect.com/science/article/pii/S0959652624008941',\n",
       "   'subTitle': 'Journal of Cleaner Production',\n",
       "   'volume': '465',\n",
       "   'year': \"'24\",\n",
       "   'month': 'Aug.'},\n",
       "  {'publicationId': 'tUbPb-QAAAAJ:M3ejUd6NZC8C',\n",
       "   'title': 'Role of Hydrogen Fuel Cells in Achieving Road Transport Decarbonization: a Case Study From Taiwan',\n",
       "   'link': 'https://www.sciencedirect.com/science/article/pii/S0360319924029082',\n",
       "   'subTitle': 'International Journal of Hydrogen Energy',\n",
       "   'volume': '80',\n",
       "   'year': \"'24\",\n",
       "   'month': 'Aug.'},\n",
       "  {'publicationId': 'tUbPb-QAAAAJ:qxL8FJ1GzNcC',\n",
       "   'title': 'Assessing Levelized Cost of Electric Vehicle Recharging in China',\n",
       "   'link': 'https://www.cell.com/iscience/fulltext/S2589-0042(24)01915-1',\n",
       "   'subTitle': 'iScience',\n",
       "   'volume': '27',\n",
       "   'year': \"'24\",\n",
       "   'month': 'Sep.'},\n",
       "  {'publicationId': 'tUbPb-QAAAAJ:Wp0gIr-vW9MC',\n",
       "   'title': 'Evaluating the Feasibility and Economics of Hydrogen Storage in Large-Scale Renewable Deployment for Decarbonization',\n",
       "   'link': 'https://www.sciencedirect.com/science/article/pii/S2211467X24002542',\n",
       "   'subTitle': 'Energy Conversion and Management: X',\n",
       "   'volume': '24',\n",
       "   'year': \"'24\",\n",
       "   'month': 'Oct.'},\n",
       "  {'publicationId': 'tUbPb-QAAAAJ:aqlVkmm33-oC',\n",
       "   'title': 'Reanalysis and Ground Station Data: Advanced Data Preprocessing in Deep Learning for Wind Power Prediction',\n",
       "   'link': 'https://www.sciencedirect.com/science/article/pii/S0306261924015125',\n",
       "   'subTitle': 'Applied Energy',\n",
       "   'volume': '375',\n",
       "   'year': \"'24\",\n",
       "   'month': 'Dec.'},\n",
       "  {'publicationId': 'tUbPb-QAAAAJ:9ZlFYXVOiuMC',\n",
       "   'title': '國際固體再生燃料標準的比較與策略展望',\n",
       "   'link': 'https://km.twenergy.org.tw/publication/thesis_more?id=384',\n",
       "   'subTitle': '臺灣能源期刊',\n",
       "   'volume': '11',\n",
       "   'year': \"'24\",\n",
       "   'month': 'Dec.'},\n",
       "  {'publicationId': 'tUbPb-QAAAAJ:QIV2ME_5wuYC',\n",
       "   'title': '公車候車亭的綠色轉型：太陽能光電與儲能技術的實踐與效益',\n",
       "   'link': 'https://km.twenergy.org.tw/publication/thesis_more?id=386',\n",
       "   'subTitle': '臺灣能源期刊',\n",
       "   'volume': '11',\n",
       "   'year': \"'24\",\n",
       "   'month': 'Dec.'},\n",
       "  {'publicationId': 'tUbPb-QAAAAJ:mVmsd5A6BfQC',\n",
       "   'title': 'Enhancing Urban Energy Resilience: Vehicle-to-Grid (V2G) Strategies within Electric Scooter Battery Swapping Ecosystems',\n",
       "   'link': 'https://www.sciencedirect.com/science/article/pii/S221067072400828X',\n",
       "   'subTitle': 'Sustainable Cities and Society',\n",
       "   'volume': '118',\n",
       "   'year': \"'25\",\n",
       "   'month': 'Jan.'},\n",
       "  {'publicationId': 'tUbPb-QAAAAJ:dhFuZR0502QC',\n",
       "   'title': 'Quantifying Carbon Emissions in Cold Chain Transport: A Real-World Data-Driven Approach',\n",
       "   'link': 'https://doi.org/10.1016/j.trd.2025.104679',\n",
       "   'subTitle': 'Transportation Research Part D: Transport and Environment',\n",
       "   'volume': '142',\n",
       "   'year': \"'25\",\n",
       "   'month': 'May.'}]}"
      ]
     },
     "execution_count": 21,
     "metadata": {},
     "output_type": "execute_result"
    }
   ],
   "source": [
    "structures['publications'][0]"
   ]
  },
  {
   "cell_type": "code",
   "execution_count": null,
   "metadata": {},
   "outputs": [
    {
     "data": {
      "text/plain": [
       "[9, 8, 7, 6, 5, 4, 3]"
      ]
     },
     "execution_count": 13,
     "metadata": {},
     "output_type": "execute_result"
    }
   ],
   "source": [
    "[0,1,2,3,4,5,6,7,8,9][-1:-8:-1]\n"
   ]
  },
  {
   "cell_type": "code",
   "execution_count": 25,
   "metadata": {},
   "outputs": [
    {
     "name": "stdout",
     "output_type": "stream",
     "text": [
      "2025. 02. 26\n"
     ]
    }
   ],
   "source": [
    "from datetime import datetime\n",
    "\n",
    "now = datetime.now()\n",
    "print(now.strftime(\"%Y. %m. %d\"))"
   ]
  },
  {
   "cell_type": "code",
   "execution_count": 17,
   "metadata": {},
   "outputs": [
    {
     "data": {
      "text/plain": [
       "'<div class=\"abt-text\">\\nHoused in the Department of Civil Engineering at National Taiwan University (NTU), our center, directed by Professor I-Yun Lisa Hsieh (謝依芸), is dedicated to overcoming the challenges of sustainable energy transition. Our focus is on reducing CO<sub>2</sub> and pollutant emissions while addressing the rising demand for energy. Through innovative research and practical data-driven solutions, we aim to accelerate the global and local shift to net-zero emissions.\\n\\nStarting with electric mobility, our research has grown to encompass a wide range of energy systems, including renewable energy, smart grid management, green logistics, and hydrogen energy economics. We also address broader societal issues such as carbon pricing and green finance, all to support a just and sustainable transition to new energy solutions.\\n\\n[JOIN US](/#contact-us) on this journey to create a future that is not only cleaner and smarter but also more equitable and resilient.\\n</div>\\n\\n<div class=\"abt-logos\">\\n![A beautiful sunrise](/assets/i/e3-logo-text.svg \"NTU E3 Research Center\")\\n![A beautiful sunrise](/assets/i/ntu-logo-text.svg \"National Taiwan University\")\\n</div>'"
      ]
     },
     "execution_count": 17,
     "metadata": {},
     "output_type": "execute_result"
    }
   ],
   "source": [
    "\n",
    "\n",
    "# Read and convert your Markdown file\n",
    "with open('contents/articles/about.md', 'r', encoding='utf-8') as f:\n",
    "    md_text = f.read()\n",
    "html_content = markdown.markdown(md_text)\n",
    "html_content"
   ]
  },
  {
   "cell_type": "code",
   "execution_count": 33,
   "metadata": {},
   "outputs": [
    {
     "data": {
      "text/plain": [
       "'<div class=\"abt-text\">\\n<h3>jkljsdf</h3>\\n<p>Housed in the Department of Civil Engineering at National Taiwan University (NTU), our center, directed by Professor I-Yun Lisa Hsieh (謝依芸), is dedicated to overcoming the challenges of sustainable energy transition. Our focus is on reducing CO<sub>2</sub> and pollutant emissions while addressing the rising demand for energy. Through innovative research and practical data-driven solutions, we aim to accelerate the global and local shift to net-zero emissions.</p>\\n<p>Starting with electric mobility, our research has grown to encompass a wide range of energy systems, including renewable energy, smart grid management, green logistics, and hydrogen energy economics. We also address broader societal issues such as carbon pricing and green finance, all to support a just and sustainable transition to new energy solutions.</p>\\n<p><a href=\"/#contact-us\">JOIN US</a> on this journey to create a future that is not only cleaner and smarter but also more equitable and resilient.</p>\\n</div>\\n<div class=\"abt-logos\">\\n<p><img alt=\"A beautiful sunrise\" src=\"/assets/i/e3-logo-text.svg\" title=\"NTU E3 Research Center\" />\\n<img alt=\"A beautiful sunrise\" src=\"/assets/i/ntu-logo-text.svg\" title=\"National Taiwan University\" /></p>\\n</div>'"
      ]
     },
     "execution_count": 33,
     "metadata": {},
     "output_type": "execute_result"
    }
   ],
   "source": [
    "with open('contents/articles/about.md', 'r', encoding='utf-8') as f:\n",
    "    md_text = f.read()\n",
    "\n",
    "html = markdown.markdown(md_text, extensions=['md_in_html'])\n",
    "html"
   ]
  },
  {
   "cell_type": "markdown",
   "metadata": {},
   "source": [
    "# compress-img"
   ]
  },
  {
   "cell_type": "code",
   "execution_count": 57,
   "metadata": {},
   "outputs": [],
   "source": [
    "from PIL import Image\n",
    "import glob\n",
    "import json\n",
    "import os\n",
    "import shutil\n",
    "\n",
    "# open json\n",
    "def open_json(file_path):\n",
    "    try:\n",
    "        # Open the JSON file for reading\n",
    "        with open(file_path, 'r', encoding='utf-8') as file:\n",
    "            # Load the JSON data\n",
    "            data = json.load(file)\n",
    "    \n",
    "        return data\n",
    "    \n",
    "    except FileNotFoundError:\n",
    "        print(f\"Error: The file '{file_path}' does not exist.\")\n",
    "    except json.JSONDecodeError as e:\n",
    "        print(f\"Error decoding JSON: {e}\")\n",
    "    except Exception as e:\n",
    "        print(f\"An unexpected error occurred: {e}\")\n",
    "\n",
    "# Function to resize and convert an image to WebP\n",
    "def convert_to_webp(input_image_name, sizes, compression_quality=100):\n",
    "    # Get the input image path\n",
    "    input_image_path = glob.glob(f\"{input_image_name}.*\")[0]\n",
    "\n",
    "    \"\"\"Converts the image to WebP format in multiple sizes\"\"\"\n",
    "    with Image.open(input_image_path) as img:\n",
    "        for size in sizes:\n",
    "            # Resize the image while maintaining aspect ratio\n",
    "            img_resized = img.resize((size, int(size * img.height / img.width)))\n",
    "            # Save the resized image in WebP format\n",
    "            webp_output_path = f\"{input_image_name}-{size}w.webp\"\n",
    "            img_resized.save(webp_output_path, \"WEBP\", quality=compression_quality)\n",
    "            print(f\"Saved {webp_output_path} with size {size}px width\")\n",
    "\n",
    "# Define desired sizes for WebP images (widths)\n",
    "mem_img_sizes = [200, 400, 600, 800]\n",
    "glf_img_sizes = [200, 400, 600, 800, 1200, 1600, 2000]\n",
    "lazy_img_sizes = [20]"
   ]
  },
  {
   "cell_type": "code",
   "execution_count": null,
   "metadata": {},
   "outputs": [
    {
     "name": "stdout",
     "output_type": "stream",
     "text": [
      "--- Images found in 'group-life' ---\n",
      "contents/images\\group-life\\2020-1.png copied and converted to WebP\n",
      "contents/images\\group-life\\2020-2.png copied and converted to WebP\n",
      "contents/images\\group-life\\2021-1.png copied and converted to WebP\n",
      "contents/images\\group-life\\2021-2.png copied and converted to WebP\n",
      "contents/images\\group-life\\2022-1.jpg copied and converted to WebP\n",
      "--- Images found in 'members' ---\n",
      "contents/images\\members\\d13521023.jpg copied and converted to WebP\n",
      "contents/images\\members\\iyhsieh.jpg copied and converted to WebP\n",
      "contents/images\\members\\r08521604.jpg copied and converted to WebP\n",
      "contents/images\\members\\r09521525.jpg copied and converted to WebP\n",
      "contents/images\\members\\r10521602.jpg copied and converted to WebP\n"
     ]
    }
   ],
   "source": [
    "from PIL import Image\n",
    "import os\n",
    "import shutil\n",
    "\n",
    "base_directory = 'contents/images'\n",
    "members_img_sizes = [200, 400, 600, 800]\n",
    "globals()[r'group-life_img_sizes'] = [200, 400, 600, 800, 1200, 1600, 2000]\n",
    "lazy_img_sizes = [20]\n",
    "\n",
    "def get_separated_image_paths(directory):\n",
    "    \"\"\"\n",
    "    Finds image paths and separates them by their top-level subdirectory.\n",
    "\n",
    "    Args:\n",
    "        directory (str): The path to the main directory (e.g., 'contents/images').\n",
    "\n",
    "    Returns:\n",
    "        dict: A dictionary where keys are folder names and values are lists of\n",
    "              image file paths within those folders.\n",
    "    \"\"\"\n",
    "    separated_paths = {}\n",
    "    image_extensions = {'.jpg', '.jpeg', '.png', '.gif', '.bmp', '.tiff'}\n",
    "\n",
    "    # First, find all top-level subdirectories\n",
    "    try:\n",
    "        # List items in the base directory and filter for directories\n",
    "        subdirectories = [item for item in os.listdir(directory)\n",
    "                          if os.path.isdir(os.path.join(directory, item))]\n",
    "    except FileNotFoundError:\n",
    "        print(f\"Error: The directory '{directory}' was not found.\")\n",
    "        return {}\n",
    "\n",
    "    # Now, walk through each subdirectory to find images\n",
    "    for subdir in subdirectories:\n",
    "        image_list = []\n",
    "        subdir_path = os.path.join(directory, subdir)\n",
    "        for root, _, files in os.walk(subdir_path):\n",
    "            for file in files:\n",
    "                # Check for valid, non-SVG image extensions\n",
    "                if any(file.lower().endswith(ext) for ext in image_extensions):\n",
    "                    image_list.append(os.path.join(root, file))\n",
    "\n",
    "        # Only add the folder to the dictionary if it contains images\n",
    "        if image_list:\n",
    "            separated_paths[subdir] = image_list\n",
    "\n",
    "    return separated_paths\n",
    "\n",
    "def convert_to_webp(path, sizes, compression_quality=100):\n",
    "    basename = os.path.splitext(os.path.basename(path))[0]\n",
    "    with Image.open(path) as img:\n",
    "        for size in sizes:\n",
    "            img_resized = img.resize((size, int(size * img.height / img.width)))\n",
    "            webp_output_path = f\"{dst_path}/{basename}-{size}w.webp\"\n",
    "            img_resized.save(webp_output_path, \"WEBP\", quality=compression_quality)\n",
    "\n",
    "\n",
    "image_paths_by_folder = get_separated_image_paths(base_directory)\n",
    "\n",
    "for folder, paths in image_paths_by_folder.items():\n",
    "    print(f\"--- Images found in '{folder}' ---\")\n",
    "    dst_path = f\"dist/assets/{folder}\"\n",
    "    os.makedirs(dst_path, exist_ok=True)\n",
    "    for path in paths[:5]:\n",
    "        shutil.copy2(path, dst_path)\n",
    "        convert_to_webp(path, globals()[f'{folder}_img_sizes'], compression_quality=70)\n",
    "        convert_to_webp(path, lazy_img_sizes, compression_quality=10)\n",
    "        print(f\"{path} copied and converted to WebP\")\n",
    "        "
   ]
  },
  {
   "cell_type": "code",
   "execution_count": 63,
   "metadata": {},
   "outputs": [
    {
     "name": "stdout",
     "output_type": "stream",
     "text": [
      "--- Images found in 'group-life' ---\n",
      "Saved dist/assets/group-life/2020-1\n",
      "Saved dist/assets/group-life/2020-2\n",
      "--- Images found in 'members' ---\n",
      "Saved dist/assets/members/d13521023\n",
      "Saved dist/assets/members/iyhsieh\n"
     ]
    }
   ],
   "source": [
    "def convert_to_webp(path, sizes, compression_quality=100):\n",
    "    basename = os.path.splitext(os.path.basename(path))[0]\n",
    "    with Image.open(path) as img:\n",
    "        for size in sizes:\n",
    "            img_resized = img.resize((size, int(size * img.height / img.width)))\n",
    "            webp_output_path = f\"{dst_path}/{basename}-{size}w.webp\"\n",
    "            img_resized.save(webp_output_path, \"WEBP\", quality=compression_quality)\n",
    "\n",
    "        print(f\"Saved {dst_path}/{basename}\")\n",
    "\n",
    "members_img_sizes = [200, 400, 600, 800]\n",
    "globals()[r'group-life_img_sizes'] = [200, 400, 600, 800, 1200, 1600, 2000]\n",
    "lazy_img_sizes = [20]\n",
    "\n",
    "for folder, paths in image_paths_by_folder.items():\n",
    "    print(f\"--- Images found in '{folder}' ---\")\n",
    "    dst_path = f\"dist/assets/{folder}\"\n",
    "    os.makedirs(dst_path, exist_ok=True)\n",
    "    for path in paths[:2]:\n",
    "        shutil.copy2(path, dst_path)\n",
    "        convert_to_webp(path, globals()[f'{folder}_img_sizes'], compression_quality=100)"
   ]
  },
  {
   "cell_type": "code",
   "execution_count": null,
   "metadata": {},
   "outputs": [],
   "source": []
  }
 ],
 "metadata": {
  "kernelspec": {
   "display_name": "Python 3",
   "language": "python",
   "name": "python3"
  },
  "language_info": {
   "codemirror_mode": {
    "name": "ipython",
    "version": 3
   },
   "file_extension": ".py",
   "mimetype": "text/x-python",
   "name": "python",
   "nbconvert_exporter": "python",
   "pygments_lexer": "ipython3",
   "version": "3.12.0"
  }
 },
 "nbformat": 4,
 "nbformat_minor": 2
}
