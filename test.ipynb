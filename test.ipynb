{
 "cells": [
  {
   "cell_type": "code",
   "execution_count": 1,
   "metadata": {},
   "outputs": [],
   "source": [
    "import os\n",
    "import shutil\n",
    "import json\n",
    "from datetime import datetime\n",
    "import markdown\n",
    "from jinja2 import Environment, FileSystemLoader"
   ]
  },
  {
   "cell_type": "code",
   "execution_count": 9,
   "metadata": {},
   "outputs": [
    {
     "name": "stdout",
     "output_type": "stream",
     "text": [
      "about copy.json\n",
      "about.json\n",
      "contact.json\n",
      "groupLife.json\n",
      "members.json\n",
      "news.json\n",
      "pages.json\n",
      "publications.json\n",
      "research.json\n"
     ]
    }
   ],
   "source": [
    "structures_path = 'contents/structures'\n",
    "structures = {}\n",
    "for filename in os.listdir(structures_path):\n",
    "    if filename.endswith('.json'):\n",
    "        print(filename)\n",
    "        file_path = os.path.join(structures_path, filename)\n",
    "        with open(file_path, 'r', encoding='utf-8') as f:\n",
    "            # Load JSON content\n",
    "            data = json.load(f)\n",
    "        # Create a key based on the file name (without the .json extension)\n",
    "        var_name = os.path.splitext(filename)[0]\n",
    "        structures[var_name] = data\n",
    "\n",
    "articles_path = 'contents/articles'\n",
    "articles = {}\n",
    "for filename in os.listdir(articles_path):\n",
    "    if filename.endswith('.md'):\n",
    "        file_path = os.path.join(articles_path, filename)\n",
    "        with open(file_path, 'r', encoding='utf-8') as f:\n",
    "            # Load md content\n",
    "            md_text = f.read()\n",
    "            html_content = markdown.markdown(md_text, extensions=['md_in_html'])\n",
    "        # Create a key based on the file name (without the .json extension)\n",
    "        var_name = os.path.splitext(filename)[0]\n",
    "        articles[var_name] = html_content\n",
    "\n",
    "# Now you can access your JSON data by file name:\n",
    "# For example, if you had \"example.json\", you can get its data with:\n",
    "# json_data[\"example\"]\n",
    "# print(structures)\n",
    "# articles"
   ]
  },
  {
   "cell_type": "code",
   "execution_count": 10,
   "metadata": {},
   "outputs": [],
   "source": [
    "env = Environment(loader=FileSystemLoader(['templates', 'contents']),\n",
    "                  trim_blocks=True,\n",
    "                  lstrip_blocks=True)\n",
    "template = env.get_template(f\"index.html\")\n",
    "output = template.render(\n",
    "    updated_time=datetime.now().strftime(\"%Y. %m. %d  %H:%M\"),\n",
    "    structures=structures,\n",
    "    articles=articles\n",
    ")\n",
    "with open(\"dist/index.html\", \"w\", encoding='utf-8') as f:\n",
    "    f.write(output)"
   ]
  },
  {
   "cell_type": "code",
   "execution_count": 18,
   "metadata": {},
   "outputs": [
    {
     "data": {
      "text/plain": [
       "'path'"
      ]
     },
     "execution_count": 18,
     "metadata": {},
     "output_type": "execute_result"
    }
   ],
   "source": [
    "'path.png'.split('.')[0]"
   ]
  },
  {
   "cell_type": "code",
   "execution_count": 35,
   "metadata": {},
   "outputs": [
    {
     "data": {
      "text/plain": [
       "[{'title': 'Congratulations to Yu-Shin Hu (胡羽忻) for winning the Best Innovation Paper at iCHE2024!',\n",
       "  'year': \"'24\",\n",
       "  'month': 'Sep.'},\n",
       " {'title': 'Prof. Hsieh wins the Outstanding Teaching Award (優良教學獎) at NTU.',\n",
       "  'year': \"'24\",\n",
       "  'month': 'Sep.'},\n",
       " {'title': 'Prof. Hsieh promoted to Associate Professor.',\n",
       "  'year': \"'24\",\n",
       "  'month': 'Aug.'},\n",
       " {'title': 'Prof. Hsieh writes a column on retiring batteries and vehicle networking for Critical Reviews (關鍵評論網).',\n",
       "  'link': 'https://www.thenewslens.com/article/204563',\n",
       "  'year': \"'24\",\n",
       "  'month': 'Jul.'},\n",
       " {'title': \"Prof. Hsieh's paper receives the 2022 ES&T Best Paper Award.\",\n",
       "  'link': 'https://pubs.acs.org/doi/10.1021/acs.est.4c02832',\n",
       "  'year': \"'24\",\n",
       "  'month': 'Apr.'}]"
      ]
     },
     "execution_count": 35,
     "metadata": {},
     "output_type": "execute_result"
    }
   ],
   "source": [
    "structures['news'][0]['items'][-1:-6:-1]"
   ]
  },
  {
   "cell_type": "code",
   "execution_count": 21,
   "metadata": {},
   "outputs": [
    {
     "data": {
      "text/plain": [
       "{'sectionTitle:': 'Journal Publications',\n",
       " 'items': [{'publicationId': 'tUbPb-QAAAAJ:9yKSN-GCB0IC',\n",
       "   'title': 'Incorporating Multiple Uncertainties Into Projections of Chinese Private Car Sales and Stock',\n",
       "   'link': 'https://journals.sagepub.com/doi/abs/10.1177/0361198118791361',\n",
       "   'subTitle': 'Transportation Research Record',\n",
       "   'volume': '47',\n",
       "   'year': \"'18\",\n",
       "   'month': 'Dec.'},\n",
       "  {'publicationId': 'tUbPb-QAAAAJ:u-x6o8ySG0sC',\n",
       "   'title': 'Learning Only Buys You so Much: Practical Limits on Battery Price Reduction',\n",
       "   'link': 'https://www.sciencedirect.com/science/article/pii/S0306261919301606',\n",
       "   'subTitle': 'Applied Energy',\n",
       "   'volume': '239',\n",
       "   'year': \"'19\",\n",
       "   'month': 'Apr.'},\n",
       "  {'publicationId': 'tUbPb-QAAAAJ:IjCSPb-OGe4C',\n",
       "   'title': 'Recharging Systems and Business Operations to Improve the Economics of Electrified Taxi Fleets',\n",
       "   'link': 'https://www.sciencedirect.com/science/article/pii/S2210670720301062',\n",
       "   'subTitle': 'Sustainable Cities and Society',\n",
       "   'volume': '57',\n",
       "   'year': \"'20\",\n",
       "   'month': 'Jun.'},\n",
       "  {'publicationId': 'tUbPb-QAAAAJ:d1gkVwhDpl0C',\n",
       "   'title': 'Transition to Electric Vehicles in China: Implications for Private Motorization Rate and Battery Market',\n",
       "   'link': 'https://www.sciencedirect.com/science/article/pii/S0301421520303852',\n",
       "   'subTitle': 'Energy policy',\n",
       "   'volume': '144',\n",
       "   'year': \"'20\",\n",
       "   'month': 'Sep.'},\n",
       "  {'publicationId': 'tUbPb-QAAAAJ:W7OEmFMy1HYC',\n",
       "   'title': \"China's Vehicle Electrification Impacts on Sales, Fuel Use, and Battery Material Demand Through 2050: Optimizing Consumer and Industry Decisions\",\n",
       "   'link': 'https://www.cell.com/iscience/fulltext/S2589-0042(21)01346-8',\n",
       "   'subTitle': 'Iscience',\n",
       "   'volume': '24',\n",
       "   'year': \"'21\",\n",
       "   'month': 'Nov.'},\n",
       "  {'publicationId': 'tUbPb-QAAAAJ:YsMSGLbcyi4C',\n",
       "   'title': 'An Integrated Assessment of Emissions, Air Quality, and Public Health Impacts of China’s Transition to Electric Vehicles',\n",
       "   'link': 'https://pubs.acs.org/doi/abs/10.1021/acs.est.1c06148',\n",
       "   'subTitle': 'Environmental science & technology',\n",
       "   'volume': '56',\n",
       "   'year': \"'22\",\n",
       "   'month': 'Feb.'},\n",
       "  {'publicationId': 'tUbPb-QAAAAJ:_kc_bZDykSQC',\n",
       "   'title': '臺灣電力碳密集度現況研究與淨零政策之展望',\n",
       "   'link': 'https://km.twenergy.org.tw/Publication/thesis_more?id=325',\n",
       "   'subTitle': '臺灣能源期刊',\n",
       "   'volume': '9',\n",
       "   'year': \"'22\",\n",
       "   'month': 'Dec.'},\n",
       "  {'publicationId': 'tUbPb-QAAAAJ:4TOpqqG69KYC',\n",
       "   'title': '基於桑基圖之臺灣能源流現況與2050淨零政策潛在影響之展望分析',\n",
       "   'link': 'https://km.twenergy.org.tw/Publication/thesis_more?id=330',\n",
       "   'subTitle': '臺灣能源期刊',\n",
       "   'volume': '9',\n",
       "   'year': \"'22\",\n",
       "   'month': 'Dec.'},\n",
       "  {'publicationId': 'tUbPb-QAAAAJ:Se3iqnhoufwC',\n",
       "   'title': 'Evaluating Vehicle Fleet Electrification Against Net-zero Targets in Scooter-dominated Road Transport',\n",
       "   'link': 'https://www.sciencedirect.com/science/article/pii/S1361920922003686',\n",
       "   'subTitle': 'Transportation Research Part D: Transport and Environment',\n",
       "   'volume': '114',\n",
       "   'year': \"'23\",\n",
       "   'month': 'Jan.'},\n",
       "  {'publicationId': 'tUbPb-QAAAAJ:hqOjcs7Dif8C',\n",
       "   'title': 'Beyond Personal Vehicles: How Electrifying Scooters Will Help Achieve Climate Mitigation Goals in Taiwan',\n",
       "   'link': 'https://www.sciencedirect.com/science/article/pii/S2211467X23000068',\n",
       "   'subTitle': 'Energy Strategy Reviews',\n",
       "   'volume': '45',\n",
       "   'year': \"'23\",\n",
       "   'month': 'Jan.'},\n",
       "  {'publicationId': 'tUbPb-QAAAAJ:0EnyYjriUFMC',\n",
       "   'title': 'Driving a Sustainable Road Transportation Transformation',\n",
       "   'link': 'https://www.cell.com/one-earth/fulltext/S2590-3322(23)00002-7',\n",
       "   'subTitle': 'One Earth',\n",
       "   'volume': '6',\n",
       "   'year': \"'23\",\n",
       "   'month': 'Jan.'},\n",
       "  {'publicationId': 'tUbPb-QAAAAJ:5nxA0vEk-isC',\n",
       "   'title': 'Impacts of Electric Fleet Charging Patterns Under Different Solar Power Penetration Levels: Hourly Grid Variations and Operating Emissions',\n",
       "   'link': 'https://www.sciencedirect.com/science/article/pii/S1361920923002456',\n",
       "   'subTitle': 'Transportation Research Part D: Transport and Environment',\n",
       "   'volume': '122',\n",
       "   'year': \"'23\",\n",
       "   'month': 'Sep.'},\n",
       "  {'publicationId': 'tUbPb-QAAAAJ:8k81kl-MbHgC',\n",
       "   'title': 'Transitioning From Illegal Rooftop Dwellings to Solar Pv: Market-based Incentive Design and Techno-economic Analysis',\n",
       "   'link': 'https://www.sciencedirect.com/science/article/pii/S2211467X23001049',\n",
       "   'subTitle': 'Energy Strategy Reviews',\n",
       "   'volume': '49',\n",
       "   'year': \"'23\",\n",
       "   'month': 'Sep.'},\n",
       "  {'publicationId': 'tUbPb-QAAAAJ:3fE2CSJIrl8C',\n",
       "   'title': 'Techno-economic Analysis of Lithium-ion Battery Price Reduction Considering Carbon Footprint Based on Life Cycle Assessment',\n",
       "   'link': 'https://www.sciencedirect.com/science/article/pii/S0959652623032031',\n",
       "   'subTitle': 'Journal of Cleaner Production',\n",
       "   'volume': '425',\n",
       "   'year': \"'23\",\n",
       "   'month': 'Nov.'},\n",
       "  {'publicationId': 'tUbPb-QAAAAJ:MXK_kJrjxJIC',\n",
       "   'title': 'Towards Nearly Zero-energy Buildings: Smart Energy Management of Vehicle-to-building (v2b) Strategy and Renewable Energy Sources',\n",
       "   'link': 'https://www.sciencedirect.com/science/article/pii/S2210670723005528',\n",
       "   'subTitle': 'Sustainable Cities and Society',\n",
       "   'volume': '99',\n",
       "   'year': \"'23\",\n",
       "   'month': 'Dec.'},\n",
       "  {'publicationId': 'tUbPb-QAAAAJ:kNdYIx-mwKoC',\n",
       "   'title': 'Sparse Trip Demand Prediction for Shared E-scooter Using Spatio-temporal Graph Neural Networks',\n",
       "   'link': 'https://www.sciencedirect.com/science/article/pii/S1361920923003590',\n",
       "   'subTitle': 'Transportation research part D: transport and environment',\n",
       "   'volume': '125',\n",
       "   'year': \"'23\",\n",
       "   'month': 'Dec.'},\n",
       "  {'publicationId': 'tUbPb-QAAAAJ:ULOm3_A8WrAC',\n",
       "   'title': '校園交通車及公務車電動化的環境效益與擁有成本分析：以臺灣大學為例',\n",
       "   'link': 'https://doi.org/10.6383/jcit.202312_35(4).0004',\n",
       "   'subTitle': '運輸學刊',\n",
       "   'volume': '35',\n",
       "   'year': \"'23\",\n",
       "   'month': 'Dec.'},\n",
       "  {'publicationId': 'tUbPb-QAAAAJ:Zph67rFs4hoC',\n",
       "   'title': 'Reducing Supply Risk of Critical Materials for Clean Energy Via Foreign Direct Investment',\n",
       "   'link': 'https://www.nature.com/articles/s41893-024-01329-3',\n",
       "   'subTitle': 'Nature Sustainability',\n",
       "   'volume': '7',\n",
       "   'year': \"'24\",\n",
       "   'month': 'Apr.'},\n",
       "  {'publicationId': 'tUbPb-QAAAAJ:KlAtU1dfN6UC',\n",
       "   'title': 'Distributional Effects of Carbon Pricing: an Analysis of Income-based Versus Expenditure-based Approaches',\n",
       "   'link': 'https://www.sciencedirect.com/science/article/pii/S0959652624008941',\n",
       "   'subTitle': 'Journal of Cleaner Production',\n",
       "   'volume': '465',\n",
       "   'year': \"'24\",\n",
       "   'month': 'Aug.'},\n",
       "  {'publicationId': 'tUbPb-QAAAAJ:M3ejUd6NZC8C',\n",
       "   'title': 'Role of Hydrogen Fuel Cells in Achieving Road Transport Decarbonization: a Case Study From Taiwan',\n",
       "   'link': 'https://www.sciencedirect.com/science/article/pii/S0360319924029082',\n",
       "   'subTitle': 'International Journal of Hydrogen Energy',\n",
       "   'volume': '80',\n",
       "   'year': \"'24\",\n",
       "   'month': 'Aug.'},\n",
       "  {'publicationId': 'tUbPb-QAAAAJ:qxL8FJ1GzNcC',\n",
       "   'title': 'Assessing Levelized Cost of Electric Vehicle Recharging in China',\n",
       "   'link': 'https://www.cell.com/iscience/fulltext/S2589-0042(24)01915-1',\n",
       "   'subTitle': 'iScience',\n",
       "   'volume': '27',\n",
       "   'year': \"'24\",\n",
       "   'month': 'Sep.'},\n",
       "  {'publicationId': 'tUbPb-QAAAAJ:Wp0gIr-vW9MC',\n",
       "   'title': 'Evaluating the Feasibility and Economics of Hydrogen Storage in Large-Scale Renewable Deployment for Decarbonization',\n",
       "   'link': 'https://www.sciencedirect.com/science/article/pii/S2211467X24002542',\n",
       "   'subTitle': 'Energy Conversion and Management: X',\n",
       "   'volume': '24',\n",
       "   'year': \"'24\",\n",
       "   'month': 'Oct.'},\n",
       "  {'publicationId': 'tUbPb-QAAAAJ:aqlVkmm33-oC',\n",
       "   'title': 'Reanalysis and Ground Station Data: Advanced Data Preprocessing in Deep Learning for Wind Power Prediction',\n",
       "   'link': 'https://www.sciencedirect.com/science/article/pii/S0306261924015125',\n",
       "   'subTitle': 'Applied Energy',\n",
       "   'volume': '375',\n",
       "   'year': \"'24\",\n",
       "   'month': 'Dec.'},\n",
       "  {'publicationId': 'tUbPb-QAAAAJ:9ZlFYXVOiuMC',\n",
       "   'title': '國際固體再生燃料標準的比較與策略展望',\n",
       "   'link': 'https://km.twenergy.org.tw/publication/thesis_more?id=384',\n",
       "   'subTitle': '臺灣能源期刊',\n",
       "   'volume': '11',\n",
       "   'year': \"'24\",\n",
       "   'month': 'Dec.'},\n",
       "  {'publicationId': 'tUbPb-QAAAAJ:QIV2ME_5wuYC',\n",
       "   'title': '公車候車亭的綠色轉型：太陽能光電與儲能技術的實踐與效益',\n",
       "   'link': 'https://km.twenergy.org.tw/publication/thesis_more?id=386',\n",
       "   'subTitle': '臺灣能源期刊',\n",
       "   'volume': '11',\n",
       "   'year': \"'24\",\n",
       "   'month': 'Dec.'},\n",
       "  {'publicationId': 'tUbPb-QAAAAJ:mVmsd5A6BfQC',\n",
       "   'title': 'Enhancing Urban Energy Resilience: Vehicle-to-Grid (V2G) Strategies within Electric Scooter Battery Swapping Ecosystems',\n",
       "   'link': 'https://www.sciencedirect.com/science/article/pii/S221067072400828X',\n",
       "   'subTitle': 'Sustainable Cities and Society',\n",
       "   'volume': '118',\n",
       "   'year': \"'25\",\n",
       "   'month': 'Jan.'},\n",
       "  {'publicationId': 'tUbPb-QAAAAJ:dhFuZR0502QC',\n",
       "   'title': 'Quantifying Carbon Emissions in Cold Chain Transport: A Real-World Data-Driven Approach',\n",
       "   'link': 'https://doi.org/10.1016/j.trd.2025.104679',\n",
       "   'subTitle': 'Transportation Research Part D: Transport and Environment',\n",
       "   'volume': '142',\n",
       "   'year': \"'25\",\n",
       "   'month': 'May.'}]}"
      ]
     },
     "execution_count": 21,
     "metadata": {},
     "output_type": "execute_result"
    }
   ],
   "source": [
    "structures['publications'][0]"
   ]
  },
  {
   "cell_type": "code",
   "execution_count": null,
   "metadata": {},
   "outputs": [
    {
     "data": {
      "text/plain": [
       "[9, 8, 7, 6, 5, 4, 3]"
      ]
     },
     "execution_count": 13,
     "metadata": {},
     "output_type": "execute_result"
    }
   ],
   "source": [
    "[0,1,2,3,4,5,6,7,8,9][-1:-8:-1]\n"
   ]
  },
  {
   "cell_type": "code",
   "execution_count": 25,
   "metadata": {},
   "outputs": [
    {
     "name": "stdout",
     "output_type": "stream",
     "text": [
      "2025. 02. 26\n"
     ]
    }
   ],
   "source": [
    "from datetime import datetime\n",
    "\n",
    "now = datetime.now()\n",
    "print(now.strftime(\"%Y. %m. %d\"))"
   ]
  },
  {
   "cell_type": "code",
   "execution_count": 17,
   "metadata": {},
   "outputs": [
    {
     "data": {
      "text/plain": [
       "'<div class=\"abt-text\">\\nHoused in the Department of Civil Engineering at National Taiwan University (NTU), our center, directed by Professor I-Yun Lisa Hsieh (謝依芸), is dedicated to overcoming the challenges of sustainable energy transition. Our focus is on reducing CO<sub>2</sub> and pollutant emissions while addressing the rising demand for energy. Through innovative research and practical data-driven solutions, we aim to accelerate the global and local shift to net-zero emissions.\\n\\nStarting with electric mobility, our research has grown to encompass a wide range of energy systems, including renewable energy, smart grid management, green logistics, and hydrogen energy economics. We also address broader societal issues such as carbon pricing and green finance, all to support a just and sustainable transition to new energy solutions.\\n\\n[JOIN US](/#contact-us) on this journey to create a future that is not only cleaner and smarter but also more equitable and resilient.\\n</div>\\n\\n<div class=\"abt-logos\">\\n![A beautiful sunrise](/assets/i/e3-logo-text.svg \"NTU E3 Research Center\")\\n![A beautiful sunrise](/assets/i/ntu-logo-text.svg \"National Taiwan University\")\\n</div>'"
      ]
     },
     "execution_count": 17,
     "metadata": {},
     "output_type": "execute_result"
    }
   ],
   "source": [
    "\n",
    "\n",
    "# Read and convert your Markdown file\n",
    "with open('contents/articles/about.md', 'r', encoding='utf-8') as f:\n",
    "    md_text = f.read()\n",
    "html_content = markdown.markdown(md_text)\n",
    "html_content"
   ]
  },
  {
   "cell_type": "code",
   "execution_count": 33,
   "metadata": {},
   "outputs": [
    {
     "data": {
      "text/plain": [
       "'<div class=\"abt-text\">\\n<h3>jkljsdf</h3>\\n<p>Housed in the Department of Civil Engineering at National Taiwan University (NTU), our center, directed by Professor I-Yun Lisa Hsieh (謝依芸), is dedicated to overcoming the challenges of sustainable energy transition. Our focus is on reducing CO<sub>2</sub> and pollutant emissions while addressing the rising demand for energy. Through innovative research and practical data-driven solutions, we aim to accelerate the global and local shift to net-zero emissions.</p>\\n<p>Starting with electric mobility, our research has grown to encompass a wide range of energy systems, including renewable energy, smart grid management, green logistics, and hydrogen energy economics. We also address broader societal issues such as carbon pricing and green finance, all to support a just and sustainable transition to new energy solutions.</p>\\n<p><a href=\"/#contact-us\">JOIN US</a> on this journey to create a future that is not only cleaner and smarter but also more equitable and resilient.</p>\\n</div>\\n<div class=\"abt-logos\">\\n<p><img alt=\"A beautiful sunrise\" src=\"/assets/i/e3-logo-text.svg\" title=\"NTU E3 Research Center\" />\\n<img alt=\"A beautiful sunrise\" src=\"/assets/i/ntu-logo-text.svg\" title=\"National Taiwan University\" /></p>\\n</div>'"
      ]
     },
     "execution_count": 33,
     "metadata": {},
     "output_type": "execute_result"
    }
   ],
   "source": [
    "with open('contents/articles/about.md', 'r', encoding='utf-8') as f:\n",
    "    md_text = f.read()\n",
    "\n",
    "html = markdown.markdown(md_text, extensions=['md_in_html'])\n",
    "html"
   ]
  }
 ],
 "metadata": {
  "kernelspec": {
   "display_name": "Python 3",
   "language": "python",
   "name": "python3"
  },
  "language_info": {
   "codemirror_mode": {
    "name": "ipython",
    "version": 3
   },
   "file_extension": ".py",
   "mimetype": "text/x-python",
   "name": "python",
   "nbconvert_exporter": "python",
   "pygments_lexer": "ipython3",
   "version": "3.12.0"
  }
 },
 "nbformat": 4,
 "nbformat_minor": 2
}
