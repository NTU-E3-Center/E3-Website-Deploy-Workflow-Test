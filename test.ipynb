{
 "cells": [
  {
   "cell_type": "code",
   "execution_count": 1,
   "metadata": {},
   "outputs": [],
   "source": [
    "import os\n",
    "import shutil\n",
    "import json\n",
    "from datetime import datetime\n",
    "import markdown\n",
    "from jinja2 import Environment, FileSystemLoader"
   ]
  },
  {
   "cell_type": "code",
   "execution_count": 9,
   "metadata": {},
   "outputs": [
    {
     "name": "stdout",
     "output_type": "stream",
     "text": [
      "about.json\n",
      "group-life.json\n",
      "members copy.json\n",
      "members.json\n",
      "news.json\n",
      "pages.json\n",
      "publications.json\n",
      "research.json\n"
     ]
    }
   ],
   "source": [
    "structures_path = 'contents/structures'\n",
    "structures = {}\n",
    "for filename in os.listdir(structures_path):\n",
    "    if filename.endswith('.json'):\n",
    "        print(filename)\n",
    "        file_path = os.path.join(structures_path, filename)\n",
    "        with open(file_path, 'r', encoding='utf-8') as f:\n",
    "            # Load JSON content\n",
    "            data = json.load(f)\n",
    "        # Create a key based on the file name (without the .json extension)\n",
    "        var_name = os.path.splitext(filename)[0]\n",
    "        structures[var_name] = data\n",
    "\n",
    "articles_path = 'contents/articles'\n",
    "articles = {}\n",
    "for filename in os.listdir(articles_path):\n",
    "    if filename.endswith('.md'):\n",
    "        file_path = os.path.join(articles_path, filename)\n",
    "        with open(file_path, 'r', encoding='utf-8') as f:\n",
    "            # Load md content\n",
    "            md_text = f.read()\n",
    "            html_content = markdown.markdown(md_text, extensions=['md_in_html'])\n",
    "        # Create a key based on the file name (without the .json extension)\n",
    "        var_name = os.path.splitext(filename)[0]\n",
    "        articles[var_name] = html_content\n",
    "\n",
    "# Now you can access your JSON data by file name:\n",
    "# For example, if you had \"example.json\", you can get its data with:\n",
    "# json_data[\"example\"]\n",
    "# print(structures)\n",
    "# articles"
   ]
  },
  {
   "cell_type": "code",
   "execution_count": 10,
   "metadata": {},
   "outputs": [],
   "source": [
    "env = Environment(loader=FileSystemLoader(['templates', 'contents']))\n",
    "template = env.get_template(f\"index.html\")\n",
    "output = template.render(\n",
    "    updated_time=datetime.now().strftime(\"%Y. %m. %d  %H:%M\"),\n",
    "    structures=structures,\n",
    "    articles=articles\n",
    ")\n",
    "with open(\"dist/index.html\", \"w\", encoding='utf-8') as f:\n",
    "    f.write(output)"
   ]
  },
  {
   "cell_type": "code",
   "execution_count": 25,
   "metadata": {},
   "outputs": [
    {
     "name": "stdout",
     "output_type": "stream",
     "text": [
      "2025. 02. 26\n"
     ]
    }
   ],
   "source": [
    "from datetime import datetime\n",
    "\n",
    "now = datetime.now()\n",
    "print(now.strftime(\"%Y. %m. %d\"))"
   ]
  },
  {
   "cell_type": "code",
   "execution_count": 17,
   "metadata": {},
   "outputs": [
    {
     "data": {
      "text/plain": [
       "'<div class=\"abt-text\">\\nHoused in the Department of Civil Engineering at National Taiwan University (NTU), our center, directed by Professor I-Yun Lisa Hsieh (謝依芸), is dedicated to overcoming the challenges of sustainable energy transition. Our focus is on reducing CO<sub>2</sub> and pollutant emissions while addressing the rising demand for energy. Through innovative research and practical data-driven solutions, we aim to accelerate the global and local shift to net-zero emissions.\\n\\nStarting with electric mobility, our research has grown to encompass a wide range of energy systems, including renewable energy, smart grid management, green logistics, and hydrogen energy economics. We also address broader societal issues such as carbon pricing and green finance, all to support a just and sustainable transition to new energy solutions.\\n\\n[JOIN US](/#contact-us) on this journey to create a future that is not only cleaner and smarter but also more equitable and resilient.\\n</div>\\n\\n<div class=\"abt-logos\">\\n![A beautiful sunrise](/assets/i/e3-logo-text.svg \"NTU E3 Research Center\")\\n![A beautiful sunrise](/assets/i/ntu-logo-text.svg \"National Taiwan University\")\\n</div>'"
      ]
     },
     "execution_count": 17,
     "metadata": {},
     "output_type": "execute_result"
    }
   ],
   "source": [
    "\n",
    "\n",
    "# Read and convert your Markdown file\n",
    "with open('contents/articles/about.md', 'r', encoding='utf-8') as f:\n",
    "    md_text = f.read()\n",
    "html_content = markdown.markdown(md_text)\n",
    "html_content"
   ]
  },
  {
   "cell_type": "code",
   "execution_count": 33,
   "metadata": {},
   "outputs": [
    {
     "data": {
      "text/plain": [
       "'<div class=\"abt-text\">\\n<h3>jkljsdf</h3>\\n<p>Housed in the Department of Civil Engineering at National Taiwan University (NTU), our center, directed by Professor I-Yun Lisa Hsieh (謝依芸), is dedicated to overcoming the challenges of sustainable energy transition. Our focus is on reducing CO<sub>2</sub> and pollutant emissions while addressing the rising demand for energy. Through innovative research and practical data-driven solutions, we aim to accelerate the global and local shift to net-zero emissions.</p>\\n<p>Starting with electric mobility, our research has grown to encompass a wide range of energy systems, including renewable energy, smart grid management, green logistics, and hydrogen energy economics. We also address broader societal issues such as carbon pricing and green finance, all to support a just and sustainable transition to new energy solutions.</p>\\n<p><a href=\"/#contact-us\">JOIN US</a> on this journey to create a future that is not only cleaner and smarter but also more equitable and resilient.</p>\\n</div>\\n<div class=\"abt-logos\">\\n<p><img alt=\"A beautiful sunrise\" src=\"/assets/i/e3-logo-text.svg\" title=\"NTU E3 Research Center\" />\\n<img alt=\"A beautiful sunrise\" src=\"/assets/i/ntu-logo-text.svg\" title=\"National Taiwan University\" /></p>\\n</div>'"
      ]
     },
     "execution_count": 33,
     "metadata": {},
     "output_type": "execute_result"
    }
   ],
   "source": [
    "with open('contents/articles/about.md', 'r', encoding='utf-8') as f:\n",
    "    md_text = f.read()\n",
    "\n",
    "html = markdown.markdown(md_text, extensions=['md_in_html'])\n",
    "html"
   ]
  }
 ],
 "metadata": {
  "kernelspec": {
   "display_name": "Python 3",
   "language": "python",
   "name": "python3"
  },
  "language_info": {
   "codemirror_mode": {
    "name": "ipython",
    "version": 3
   },
   "file_extension": ".py",
   "mimetype": "text/x-python",
   "name": "python",
   "nbconvert_exporter": "python",
   "pygments_lexer": "ipython3",
   "version": "3.12.0"
  }
 },
 "nbformat": 4,
 "nbformat_minor": 2
}
